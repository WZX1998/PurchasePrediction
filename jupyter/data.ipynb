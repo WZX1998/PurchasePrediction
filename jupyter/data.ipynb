{
 "cells": [
  {
   "cell_type": "code",
   "execution_count": 1,
   "metadata": {},
   "outputs": [],
   "source": [
    "import numpy as np\n",
    "\n",
    "data_dir = '../data/'\n",
    "\n"
   ]
  },
  {
   "cell_type": "code",
   "execution_count": 2,
   "metadata": {},
   "outputs": [],
   "source": [
    "user_info = []\n",
    "with open(data_dir+'user_info.txt', 'r') as f:\n",
    "    user_info = f.readlines()\n"
   ]
  },
  {
   "cell_type": "code",
   "execution_count": 3,
   "metadata": {},
   "outputs": [
    {
     "data": {
      "text/plain": [
       "['2\\t5\\t2\\t\\t-99\\t2008-04-15 00:00:00\\t114\\t2\\n',\n",
       " '3\\t4\\t2\\t\\t-99\\t2016-06-13 00:00:00\\t14\\t1\\n',\n",
       " '4\\t3\\t2\\t\\t-99\\t2013-10-17 00:00:00\\t47\\t1\\n',\n",
       " '5\\t5\\t2\\t\\t-99\\t2013-08-06 00:00:00\\t49\\t2\\n',\n",
       " '6\\t5\\t2\\t\\t-99\\t2012-09-11 00:00:00\\t60\\t1\\n',\n",
       " '7\\t3\\t2\\t\\t-99\\t2009-01-01 00:00:00\\t105\\t2\\n',\n",
       " '8\\t3\\t2\\t\\t-99\\t2017-01-20 00:00:00\\t7\\t2\\n',\n",
       " '9\\t1\\t-99\\t\\t-99\\t\\t-99\\t-99\\n',\n",
       " '10\\t3\\t2\\t\\t-99\\t2017-05-25 00:00:00\\t3\\t2\\n']"
      ]
     },
     "execution_count": 3,
     "metadata": {},
     "output_type": "execute_result"
    }
   ],
   "source": [
    "user_info[1:10]"
   ]
  },
  {
   "cell_type": "code",
   "execution_count": 6,
   "metadata": {},
   "outputs": [
    {
     "name": "stdout",
     "output_type": "stream",
     "text": [
      "['1', '3', '2', '', '-99', '2010-07-24 00:00:00', '86', '1']\n"
     ]
    },
    {
     "ename": "AttributeError",
     "evalue": "'list' object has no attribute 'rstrip'",
     "output_type": "error",
     "traceback": [
      "\u001b[0;31m---------------------------------------------------------------------------\u001b[0m",
      "\u001b[0;31mAttributeError\u001b[0m                            Traceback (most recent call last)",
      "\u001b[0;32m<ipython-input-6-1f03f921a44c>\u001b[0m in \u001b[0;36m<module>\u001b[0;34m()\u001b[0m\n\u001b[1;32m      5\u001b[0m \u001b[0;34m\u001b[0m\u001b[0m\n\u001b[1;32m      6\u001b[0m \u001b[0;34m\u001b[0m\u001b[0m\n\u001b[0;32m----> 7\u001b[0;31m \u001b[0muser_info\u001b[0m \u001b[0;34m=\u001b[0m \u001b[0;34m[\u001b[0m\u001b[0msplit_t\u001b[0m\u001b[0;34m(\u001b[0m\u001b[0mx\u001b[0m\u001b[0;34m)\u001b[0m \u001b[0;32mfor\u001b[0m \u001b[0mx\u001b[0m \u001b[0;32min\u001b[0m \u001b[0muser_info\u001b[0m\u001b[0;34m]\u001b[0m\u001b[0;34m\u001b[0m\u001b[0m\n\u001b[0m\u001b[1;32m      8\u001b[0m \u001b[0;34m\u001b[0m\u001b[0m\n\u001b[1;32m      9\u001b[0m \u001b[0;32mprint\u001b[0m\u001b[0;34m(\u001b[0m\u001b[0mlen\u001b[0m\u001b[0;34m(\u001b[0m\u001b[0muser_info\u001b[0m\u001b[0;34m)\u001b[0m\u001b[0;34m)\u001b[0m\u001b[0;34m\u001b[0m\u001b[0m\n",
      "\u001b[0;32m<ipython-input-6-1f03f921a44c>\u001b[0m in \u001b[0;36msplit_t\u001b[0;34m(line)\u001b[0m\n\u001b[1;32m      1\u001b[0m \u001b[0;32mdef\u001b[0m \u001b[0msplit_t\u001b[0m\u001b[0;34m(\u001b[0m\u001b[0mline\u001b[0m\u001b[0;34m)\u001b[0m\u001b[0;34m:\u001b[0m\u001b[0;34m\u001b[0m\u001b[0m\n\u001b[1;32m      2\u001b[0m     \u001b[0;32mprint\u001b[0m\u001b[0;34m(\u001b[0m\u001b[0mline\u001b[0m\u001b[0;34m)\u001b[0m\u001b[0;34m\u001b[0m\u001b[0m\n\u001b[0;32m----> 3\u001b[0;31m     \u001b[0mline_elements\u001b[0m \u001b[0;34m=\u001b[0m \u001b[0mline\u001b[0m\u001b[0;34m.\u001b[0m\u001b[0mrstrip\u001b[0m\u001b[0;34m(\u001b[0m\u001b[0;34m'\\n\\r'\u001b[0m\u001b[0;34m)\u001b[0m\u001b[0;34m.\u001b[0m\u001b[0msplit\u001b[0m\u001b[0;34m(\u001b[0m\u001b[0;34m'\\t'\u001b[0m\u001b[0;34m)\u001b[0m\u001b[0;34m\u001b[0m\u001b[0m\n\u001b[0m\u001b[1;32m      4\u001b[0m     \u001b[0;32mreturn\u001b[0m \u001b[0mline_elements\u001b[0m\u001b[0;34m\u001b[0m\u001b[0m\n\u001b[1;32m      5\u001b[0m \u001b[0;34m\u001b[0m\u001b[0m\n",
      "\u001b[0;31mAttributeError\u001b[0m: 'list' object has no attribute 'rstrip'"
     ]
    }
   ],
   "source": [
    "def split_t(line):\n",
    "    print(line)\n",
    "    line_elements = line.rstrip('\\n\\r').split('\\t')\n",
    "    return line_elements\n",
    "\n",
    "\n",
    "user_info = [split_t(x) for x in user_info]\n"
   ]
  },
  {
   "cell_type": "code",
   "execution_count": 7,
   "metadata": {},
   "outputs": [
    {
     "name": "stdout",
     "output_type": "stream",
     "text": [
      "['11', '6', '1', '', '-99', '', '-99', '0']\n"
     ]
    }
   ],
   "source": [
    "print(user_info[10])"
   ]
  },
  {
   "cell_type": "code",
   "execution_count": null,
   "metadata": {},
   "outputs": [],
   "source": []
  },
  {
   "cell_type": "code",
   "execution_count": 10,
   "metadata": {},
   "outputs": [
    {
     "data": {
      "text/plain": [
       "1365177600.0"
      ]
     },
     "execution_count": 10,
     "metadata": {},
     "output_type": "execute_result"
    }
   ],
   "source": [
    "import time\n",
    "date = '2013-04-06 00:00:00'\n",
    "st = time.strptime(date, '%Y-%m-%d %H:%M:%S')\n",
    "time.mktime(st)"
   ]
  },
  {
   "cell_type": "code",
   "execution_count": 11,
   "metadata": {},
   "outputs": [
    {
     "data": {
      "text/plain": [
       "float"
      ]
     },
     "execution_count": 11,
     "metadata": {},
     "output_type": "execute_result"
    }
   ],
   "source": [
    "s = time.mktime(st)\n",
    "type(s)"
   ]
  },
  {
   "cell_type": "code",
   "execution_count": 12,
   "metadata": {},
   "outputs": [
    {
     "data": {
      "text/plain": [
       "['54393\\t433297\\t1501118314\\t1\\n',\n",
       " '46894\\t378748\\t1501142290\\t1\\n',\n",
       " '36379\\t270262\\t1501108124\\t1\\n',\n",
       " '39541\\t109457\\t1501168383\\t1\\n',\n",
       " '23786\\t55174\\t1501108220\\t1\\n',\n",
       " '50475\\t57514\\t1501118280\\t1\\n',\n",
       " '25352\\t163754\\t1501124772\\t1\\n',\n",
       " '1489\\t163754\\t1501165254\\t1\\n',\n",
       " '32739\\t163754\\t1501145588\\t1\\n',\n",
       " '9793\\t163754\\t1501151501\\t1\\n']"
      ]
     },
     "execution_count": 12,
     "metadata": {},
     "output_type": "execute_result"
    }
   ],
   "source": [
    "behavior_data_path = '../data/behavior_info.txt'\n",
    "\n",
    "with open(behavior_data_path, 'r') as f:\n",
    "    behavior_data = f.readlines()\n",
    "\n",
    "behavior_data[10:20]"
   ]
  },
  {
   "cell_type": "code",
   "execution_count": 13,
   "metadata": {},
   "outputs": [
    {
     "ename": "SyntaxError",
     "evalue": "invalid syntax (<ipython-input-13-1fe994bda0ac>, line 1)",
     "output_type": "error",
     "traceback": [
      "\u001b[0;36m  File \u001b[0;32m\"<ipython-input-13-1fe994bda0ac>\"\u001b[0;36m, line \u001b[0;32m1\u001b[0m\n\u001b[0;31m    import ../data_process\u001b[0m\n\u001b[0m           ^\u001b[0m\n\u001b[0;31mSyntaxError\u001b[0m\u001b[0;31m:\u001b[0m invalid syntax\n"
     ]
    }
   ],
   "source": [
    "import ../data_process\n"
   ]
  },
  {
   "cell_type": "code",
   "execution_count": 14,
   "metadata": {},
   "outputs": [],
   "source": [
    "import sys\n",
    "sys.path.append('../')"
   ]
  },
  {
   "cell_type": "code",
   "execution_count": 16,
   "metadata": {},
   "outputs": [],
   "source": [
    "import data_process as dp"
   ]
  },
  {
   "cell_type": "code",
   "execution_count": 17,
   "metadata": {},
   "outputs": [
    {
     "ename": "IOError",
     "evalue": "[Errno 2] No such file or directory: 'data/behavior_info.txt'",
     "output_type": "error",
     "traceback": [
      "\u001b[0;31m---------------------------------------------------------------------------\u001b[0m",
      "\u001b[0;31mIOError\u001b[0m                                   Traceback (most recent call last)",
      "\u001b[0;32m<ipython-input-17-639741faa59b>\u001b[0m in \u001b[0;36m<module>\u001b[0;34m()\u001b[0m\n\u001b[0;32m----> 1\u001b[0;31m \u001b[0mbh\u001b[0m \u001b[0;34m=\u001b[0m \u001b[0mdp\u001b[0m\u001b[0;34m.\u001b[0m\u001b[0mprocess_user_behaviors\u001b[0m\u001b[0;34m(\u001b[0m\u001b[0;34m)\u001b[0m\u001b[0;34m\u001b[0m\u001b[0m\n\u001b[0m",
      "\u001b[0;32m/Users/Vic/Dev/MachineLearning/Seedcup2017/PurchasePrediction/data_process.py\u001b[0m in \u001b[0;36mprocess_user_behaviors\u001b[0;34m()\u001b[0m\n\u001b[1;32m     76\u001b[0m     \u001b[0mdata_path\u001b[0m \u001b[0;34m=\u001b[0m \u001b[0;34m'data/behavior_info.txt'\u001b[0m\u001b[0;34m\u001b[0m\u001b[0m\n\u001b[1;32m     77\u001b[0m \u001b[0;34m\u001b[0m\u001b[0m\n\u001b[0;32m---> 78\u001b[0;31m     \u001b[0;32mwith\u001b[0m \u001b[0mopen\u001b[0m\u001b[0;34m(\u001b[0m\u001b[0mdata_path\u001b[0m\u001b[0;34m,\u001b[0m \u001b[0;34m'r'\u001b[0m\u001b[0;34m)\u001b[0m \u001b[0;32mas\u001b[0m \u001b[0mf\u001b[0m\u001b[0;34m:\u001b[0m\u001b[0;34m\u001b[0m\u001b[0m\n\u001b[0m\u001b[1;32m     79\u001b[0m         \u001b[0mbehavior_lines\u001b[0m \u001b[0;34m=\u001b[0m \u001b[0mf\u001b[0m\u001b[0;34m.\u001b[0m\u001b[0mreadlines\u001b[0m\u001b[0;34m(\u001b[0m\u001b[0;34m)\u001b[0m\u001b[0;34m\u001b[0m\u001b[0m\n\u001b[1;32m     80\u001b[0m \u001b[0;34m\u001b[0m\u001b[0m\n",
      "\u001b[0;31mIOError\u001b[0m: [Errno 2] No such file or directory: 'data/behavior_info.txt'"
     ]
    }
   ],
   "source": [
    "bh = dp.process_user_behaviors()"
   ]
  },
  {
   "cell_type": "code",
   "execution_count": 18,
   "metadata": {},
   "outputs": [
    {
     "data": {
      "text/plain": [
       "['4\\t4\\t4\\t4\\t \\xe7\\x8e\\xa9\\xe5\\x85\\xb7 \\xe4\\xbf\\x8f\\xe5\\xa8\\x83\\xe5\\xae\\x9d\\xe8\\xb4\\x9d \\xe8\\xbf\\x87\\xe5\\xae\\xb6\\xe5\\xae\\xb6 \\xe7\\x94\\xb5\\xe5\\x90\\xb9\\xe9\\xa3\\x8e \\xe4\\xbb\\xbf\\xe7\\x9c\\x9f \\xe6\\xa2\\xb3\\xe5\\xa6\\x86\\xe5\\x8f\\xb0 \\xe6\\x97\\x85\\xe8\\xa1\\x8c\\xe7\\xae\\xb1 /\\t11990\\n',\n",
       " '5\\t5\\t5\\t5\\t 18g \\xe5\\xa9\\xb4\\xe5\\x84\\xbf \\xe6\\xb9\\xbf\\xe7\\x96\\xb9\\xe8\\x86\\x8f \\xe6\\x81\\xa9\\xe8\\xb4\\x9d\\xe6\\xb0\\x8f\\t2900\\n']"
      ]
     },
     "execution_count": 18,
     "metadata": {},
     "output_type": "execute_result"
    }
   ],
   "source": [
    "with open('../data/product_info.txt', 'r') as f:\n",
    "    product_info = f.readlines()\n",
    "\n",
    "product_info[3:5]"
   ]
  },
  {
   "cell_type": "code",
   "execution_count": 19,
   "metadata": {},
   "outputs": [
    {
     "name": "stdout",
     "output_type": "stream",
     "text": [
      "6\t6\t6\t6\t 时尚 夏 韩版 温馨渠 纯棉 孕妇装 连衣裙\t1980\n",
      "\n"
     ]
    },
    {
     "data": {
      "text/plain": [
       "['6',\n",
       " '6',\n",
       " '6',\n",
       " '6',\n",
       " ' \\xe6\\x97\\xb6\\xe5\\xb0\\x9a \\xe5\\xa4\\x8f \\xe9\\x9f\\xa9\\xe7\\x89\\x88 \\xe6\\xb8\\xa9\\xe9\\xa6\\xa8\\xe6\\xb8\\xa0 \\xe7\\xba\\xaf\\xe6\\xa3\\x89 \\xe5\\xad\\x95\\xe5\\xa6\\x87\\xe8\\xa3\\x85 \\xe8\\xbf\\x9e\\xe8\\xa1\\xa3\\xe8\\xa3\\x99',\n",
       " '1980']"
      ]
     },
     "execution_count": 19,
     "metadata": {},
     "output_type": "execute_result"
    }
   ],
   "source": [
    "line = product_info[5]\n",
    "line_elements = split_t(line)\n",
    "line_elements"
   ]
  },
  {
   "cell_type": "code",
   "execution_count": null,
   "metadata": {},
   "outputs": [],
   "source": []
  }
 ],
 "metadata": {
  "kernelspec": {
   "display_name": "Python 2",
   "language": "python",
   "name": "python2"
  },
  "language_info": {
   "codemirror_mode": {
    "name": "ipython",
    "version": 2
   },
   "file_extension": ".py",
   "mimetype": "text/x-python",
   "name": "python",
   "nbconvert_exporter": "python",
   "pygments_lexer": "ipython2",
   "version": "2.7.10"
  }
 },
 "nbformat": 4,
 "nbformat_minor": 1
}
